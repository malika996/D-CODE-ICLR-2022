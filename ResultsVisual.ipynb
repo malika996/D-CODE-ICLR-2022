{
 "cells": [
  {
   "cell_type": "code",
   "execution_count": 10,
   "metadata": {
    "id": "ZU4OURYY4X2l"
   },
   "outputs": [],
   "source": [
    "import os\n",
    "import os.path as o\n",
    "import numpy as np\n",
    "base_path =  o.join(os.getcwd(), \"source\")\n",
    "sys.path.append(base_path)\n",
    "import pickle\n",
    "import numpy as np\n",
    "import equations\n",
    "import data\n",
    "from collections import defaultdict\n",
    "from evaluation_utils import Metric\n",
    "from lipschitz_constant import lipschitz_constant_1d"
   ]
  },
  {
   "cell_type": "markdown",
   "metadata": {
    "id": "WOnqiyGx8h5A"
   },
   "source": [
    "## **Logistic growth model**\n"
   ]
  },
  {
   "cell_type": "code",
   "execution_count": 95,
   "metadata": {
    "id": "gSBc4e9R6ZuB"
   },
   "outputs": [],
   "source": [
    "# Parameters\n",
    "x_id = 0\n",
    "r = 1\n",
    "K = 1\n",
    "T = 1\n",
    "theta = .5\n",
    "freq = 100\n",
    "n_sample = 50\n",
    "results = defaultdict(dict)\n",
    "noise_arr = np.linspace(0, 1, 10)\n",
    "seed = 0\n",
    "n_seed = 1\n",
    "\n",
    "for noise_sigma in noise_arr:\n",
    "  ode = equations.get_ode('LogisticODE', None)\n",
    "  path_base = 'results_vi/{}/noise-{}/sample-{}/freq-{}/'.format('LogisticODE', noise_sigma, n_sample, freq)\n",
    "  res = []\n",
    "  path = path_base + 'grad_seed_{}.pkl'.format(x_id)\n",
    "  with open(path, 'rb') as f:\n",
    "    res.append(pickle.load(f))\n",
    "  f_hat_list = [model['model'].execute for model in res]\n",
    "\n",
    "  metric = Metric(0, ode, f_hat_list, T, freq, n_sample)\n",
    "  results[f'noise_sigma = {noise_sigma}']['metric_instance'] = metric\n",
    "  f = f_hat_list[0]\n",
    "  lambda_x = lipschitz_constant_1d(f, (0, 1), num_points=1000, eps = 1e-10)\n",
    "  t = 1 / lambda_x**2 - .005\n",
    "  results[f'noise_sigma = {noise_sigma}']['t_eff'] = t\n",
    "  results[f'noise_sigma = {noise_sigma}']['lambda_x'] = lambda_x\n",
    "  alpha = 1 / (1 / np.sqrt(1) - lambda_x)\n",
    "  results[f'noise_sigma = {noise_sigma}']['alpha'] = alpha\n"
   ]
  },
  {
   "cell_type": "code",
   "execution_count": 13,
   "metadata": {
    "colab": {
     "base_uri": "https://localhost:8080/"
    },
    "id": "fNtUHAeJ-d3z",
    "outputId": "39d04c1f-b36d-45d8-f66d-7380ea5b253b"
   },
   "outputs": [
    {
     "data": {
      "text/plain": [
       "defaultdict(dict,\n",
       "            {'noise_sigma = 0.0': {'metric_instance': <evaluation_utils.Metric at 0x7e0bef2f0a90>,\n",
       "              't_eff': 1.061482078323495,\n",
       "              'lambda_x': 0.9683296256588035,\n",
       "              'alpha': 31.575250397315685},\n",
       "             'noise_sigma = 0.1111111111111111': {'metric_instance': <evaluation_utils.Metric at 0x7e0beecaa7d0>,\n",
       "              't_eff': 1.0622439512964876,\n",
       "              'lambda_x': 0.9679839334297052,\n",
       "              'alpha': 31.234317863638587},\n",
       "             'noise_sigma = 0.2222222222222222': {'metric_instance': <evaluation_utils.Metric at 0x7e0beecaac20>,\n",
       "              't_eff': 1.072452834920797,\n",
       "              'lambda_x': 0.9633871869758217,\n",
       "              'alpha': 27.31284261986704},\n",
       "             'noise_sigma = 0.3333333333333333': {'metric_instance': <evaluation_utils.Metric at 0x7e0beecab070>,\n",
       "              't_eff': 1.074316461615579,\n",
       "              'lambda_x': 0.9625551002675108,\n",
       "              'alpha': 26.705906736140786},\n",
       "             'noise_sigma = 0.4444444444444444': {'metric_instance': <evaluation_utils.Metric at 0x7e0beecab490>,\n",
       "              't_eff': 1.0730504320258933,\n",
       "              'lambda_x': 0.9631201321221788,\n",
       "              'alpha': 27.115064601448335},\n",
       "             'noise_sigma = 0.5555555555555556': {'metric_instance': <evaluation_utils.Metric at 0x7e0beecab880>,\n",
       "              't_eff': 1.1102899275494233,\n",
       "              'lambda_x': 0.9469043463594946,\n",
       "              'alpha': 18.83393331534625},\n",
       "             'noise_sigma = 0.6666666666666666': {'metric_instance': <evaluation_utils.Metric at 0x7e0beecabd30>,\n",
       "              't_eff': 1.1305928393996199,\n",
       "              'lambda_x': 0.9384014654322113,\n",
       "              'alpha': 16.234152435875032},\n",
       "             'noise_sigma = 0.7777777777777777': {'metric_instance': <evaluation_utils.Metric at 0x7e0beed10220>,\n",
       "              't_eff': 1.1082254949475288,\n",
       "              'lambda_x': 0.9477819379919011,\n",
       "              'alpha': 19.150461766369325},\n",
       "             'noise_sigma = 0.8888888888888888': {'metric_instance': <evaluation_utils.Metric at 0x7e0beed10610>,\n",
       "              't_eff': 1.0896997290212707,\n",
       "              'lambda_x': 0.9557680195075581,\n",
       "              'alpha': 22.608076528946597},\n",
       "             'noise_sigma = 1.0': {'metric_instance': <evaluation_utils.Metric at 0x7e0beed10a00>,\n",
       "              't_eff': 1.277371312995875,\n",
       "              'lambda_x': 0.8830658762316114,\n",
       "              'alpha': 8.551823606090379}})"
      ]
     },
     "execution_count": 13,
     "metadata": {},
     "output_type": "execute_result"
    }
   ],
   "source": [
    "with open('results_logistic.txt', 'wb') as f:\n",
    "    pickle.dump(results, f)\n",
    "results"
   ]
  },
  {
   "cell_type": "code",
   "execution_count": 96,
   "metadata": {
    "id": "8dH0rhid_q4l"
   },
   "outputs": [],
   "source": [
    "np.random.seed(10)\n",
    "ind = np.random.randint(n_sample)\n",
    "n_basis = 30\n",
    "x_mean, d_mean, c_mean = [], [], []\n",
    "x_ind, c_ind, d_ind =  [], [], []\n",
    "for i in range(len(noise_arr)):\n",
    "  x_ind.append(results[f'noise_sigma = {noise_arr[i]}']['metric_instance'].x_norm()[ind])\n",
    "  d_ind.append(results[f'noise_sigma = {noise_arr[i]}']['metric_instance'].d_x()[ind])\n",
    "  c_ind.append(np.sqrt(results[f'noise_sigma = {noise_arr[i]}']['metric_instance'].C_fxg(n_basis)[ind]))\n",
    "  x_mean.append(np.mean(results[f'noise_sigma = {noise_arr[i]}']['metric_instance'].x_norm()))\n",
    "  d_mean.append(np.mean(results[f'noise_sigma = {noise_arr[i]}']['metric_instance'].d_x()))\n",
    "  c_mean.append(np.mean(np.sqrt(results[f'noise_sigma = {noise_arr[i]}']['metric_instance'].C_fxg(n_basis))))"
   ]
  },
  {
   "cell_type": "code",
   "execution_count": 101,
   "metadata": {
    "id": "jDKDj807_Wj3"
   },
   "outputs": [],
   "source": [
    "import matplotlib.pyplot as plt\n",
    "def plotter(t, x, d, c, title, filename, figsize = (10, 8), one_d = True):\n",
    "  plt.figure(figsize= figsize)\n",
    "  if one_d is True:\n",
    "    label_x = '$\\|x - \\hat{x}\\|_2$'\n",
    "    label_d = '$\\| (F - f)\\circ x\\|_2$'\n",
    "  else:\n",
    "    label_x = '$\\Sigma\\|x - \\hat{x}\\|_2$'\n",
    "    label_d = '$\\Sigma\\| (F - f)\\circ x\\|_2$'\n",
    "\n",
    "  plt.plot(t, x, label= label_x, color='blue', linestyle='-', linewidth=3)\n",
    "  plt.plot(t, d, label= label_d, color='green', linestyle='--', linewidth=3)\n",
    "  plt.plot(t, c, label= 'Objective', color='red', linestyle='-.', linewidth=3)\n",
    "  plt.tick_params(axis='both', which='major', labelsize=15)\n",
    "  plt.xlabel('$\\sigma_R$', fontsize = 20)\n",
    "  plt.ylabel('Distance', fontsize = 20)\n",
    "  plt.title(title, fontsize = 20)\n",
    "  plt.grid(True, linestyle='--', alpha=0.5)\n",
    "  plt.legend(fontsize=20)\n",
    "  plt.savefig(f'{filename}.png')"
   ]
  },
  {
   "cell_type": "code",
   "execution_count": null,
   "metadata": {
    "colab": {
     "base_uri": "https://localhost:8080/",
     "height": 746
    },
    "id": "SNVy5I3sCpD7",
    "outputId": "5e9ae2a9-8ca3-4e16-da06-1988a4ea79c2"
   },
   "outputs": [],
   "source": [
    "plotter(noise_arr, x_mean, d_mean, c_mean, f'Average over {n_sample} trajectories', 'logistic_mean', )"
   ]
  },
  {
   "cell_type": "code",
   "execution_count": null,
   "metadata": {
    "colab": {
     "base_uri": "https://localhost:8080/",
     "height": 746
    },
    "id": "DE86QzoXEIUI",
    "outputId": "a0e650b2-fee8-4970-f911-ffc89e1f59c5"
   },
   "outputs": [],
   "source": [
    "plotter(noise_arr, x_ind, d_ind, c_ind, f'Simulated trajectory using true equation', 'logistic_ind', )"
   ]
  },
  {
   "cell_type": "markdown",
   "metadata": {
    "id": "a078EU2MFvr_"
   },
   "source": [
    "### **2d damped linear oscillator**"
   ]
  },
  {
   "cell_type": "code",
   "execution_count": 80,
   "metadata": {
    "id": "ATs0onsvF2vR"
   },
   "outputs": [],
   "source": [
    "T = 0.12\n",
    "freq = 100\n",
    "n_sample = 50\n",
    "seed = 0\n",
    "n_seed = 1\n",
    "results_osc = defaultdict(dict)\n",
    "\n",
    "\n",
    "for noise_sigma in noise_arr:\n",
    "  ode = equations.get_ode('LinearOSC', None)\n",
    "  path_base = 'results_vi/{}/noise-{}/sample-{}/freq-{}/'.format('LinearOSC', noise_sigma, n_sample, freq)\n",
    "  res = []\n",
    "  for s in range(ode.dim_x):\n",
    "    if s ==0:\n",
    "      path = path_base + 'grad_seed_{}.pkl'.format(s)\n",
    "      with open(path, 'rb') as f:\n",
    "        res.append(pickle.load(f))\n",
    "    else:\n",
    "      path = path_base + 'grad_x_{}_seed_{}.pkl'.format(s, 0)\n",
    "      with open(path, 'rb') as f:\n",
    "        res.append(pickle.load(f))\n",
    "\n",
    "  f_hat_list = [model['model'].execute for model in res]\n",
    "  for s in range(ode.dim_x):\n",
    "    results_osc[f'noise_sigma = {noise_sigma}'][f'metric_instance_{s}'] = Metric(s, ode, f_hat_list, T, 200, n_sample)\n",
    "    coefficients_dict = res[s]['f_hat'].as_coefficients_dict()\n",
    "    coefficients = np.array(list(coefficients_dict.values())).astype(float)\n",
    "    results_osc[f'noise_sigma = {noise_sigma}'][f'equation_{s}_lambda'] = np.linalg.norm(coefficients)"
   ]
  },
  {
   "cell_type": "code",
   "execution_count": 81,
   "metadata": {
    "colab": {
     "base_uri": "https://localhost:8080/"
    },
    "id": "X1SOYjf6HDBC",
    "outputId": "85c10cd8-cc54-4fc7-8727-4df49453fa0f"
   },
   "outputs": [
    {
     "data": {
      "text/plain": [
       "defaultdict(dict,\n",
       "            {'noise_sigma = 0.0': {'metric_instance_0': <evaluation_utils.Metric at 0x7e0beab77910>,\n",
       "              'equation_0_lambda': 1.4142135623730951,\n",
       "              'metric_instance_1': <evaluation_utils.Metric at 0x7e0beab74100>,\n",
       "              'equation_1_lambda': 1.4142135623730951},\n",
       "             'noise_sigma = 0.1111111111111111': {'metric_instance_0': <evaluation_utils.Metric at 0x7e0beab77370>,\n",
       "              'equation_0_lambda': 1.4142135623730951,\n",
       "              'metric_instance_1': <evaluation_utils.Metric at 0x7e0beab77d90>,\n",
       "              'equation_1_lambda': 1.4142135623730951},\n",
       "             'noise_sigma = 0.2222222222222222': {'metric_instance_0': <evaluation_utils.Metric at 0x7e0beab74340>,\n",
       "              'equation_0_lambda': 1.0,\n",
       "              'metric_instance_1': <evaluation_utils.Metric at 0x7e0beab776d0>,\n",
       "              'equation_1_lambda': 1.0},\n",
       "             'noise_sigma = 0.3333333333333333': {'metric_instance_0': <evaluation_utils.Metric at 0x7e0bea9e8cd0>,\n",
       "              'equation_0_lambda': 1.0,\n",
       "              'metric_instance_1': <evaluation_utils.Metric at 0x7e0beab75d20>,\n",
       "              'equation_1_lambda': 1.0},\n",
       "             'noise_sigma = 0.4444444444444444': {'metric_instance_0': <evaluation_utils.Metric at 0x7e0bea9e9240>,\n",
       "              'equation_0_lambda': 1.0,\n",
       "              'metric_instance_1': <evaluation_utils.Metric at 0x7e0bea9e8400>,\n",
       "              'equation_1_lambda': 1.0},\n",
       "             'noise_sigma = 0.5555555555555556': {'metric_instance_0': <evaluation_utils.Metric at 0x7e0bea9e86d0>,\n",
       "              'equation_0_lambda': 1.0,\n",
       "              'metric_instance_1': <evaluation_utils.Metric at 0x7e0beab76b60>,\n",
       "              'equation_1_lambda': 1.0},\n",
       "             'noise_sigma = 0.6666666666666666': {'metric_instance_0': <evaluation_utils.Metric at 0x7e0bea9ebcd0>,\n",
       "              'equation_0_lambda': 1.0,\n",
       "              'metric_instance_1': <evaluation_utils.Metric at 0x7e0bea9eadd0>,\n",
       "              'equation_1_lambda': 1.0},\n",
       "             'noise_sigma = 0.7777777777777777': {'metric_instance_0': <evaluation_utils.Metric at 0x7e0bea9e9060>,\n",
       "              'equation_0_lambda': 1.0,\n",
       "              'metric_instance_1': <evaluation_utils.Metric at 0x7e0bea9e9570>,\n",
       "              'equation_1_lambda': 1.0},\n",
       "             'noise_sigma = 0.8888888888888888': {'metric_instance_0': <evaluation_utils.Metric at 0x7e0beaa5a770>,\n",
       "              'equation_0_lambda': 1.0,\n",
       "              'metric_instance_1': <evaluation_utils.Metric at 0x7e0beaa5a3e0>,\n",
       "              'equation_1_lambda': 1.0},\n",
       "             'noise_sigma = 1.0': {'metric_instance_0': <evaluation_utils.Metric at 0x7e0bea9e89d0>,\n",
       "              'equation_0_lambda': 1.0,\n",
       "              'metric_instance_1': <evaluation_utils.Metric at 0x7e0beaa58e80>,\n",
       "              'equation_1_lambda': 1.0}})"
      ]
     },
     "execution_count": 81,
     "metadata": {},
     "output_type": "execute_result"
    }
   ],
   "source": [
    "results_osc"
   ]
  },
  {
   "cell_type": "code",
   "execution_count": 68,
   "metadata": {
    "id": "GY0Rico9HWJy"
   },
   "outputs": [],
   "source": [
    "sum_lambda_dict = {}\n",
    "for noise_sigma in noise_arr:\n",
    "  sum_lambda = 0\n",
    "  for s in range(ode.dim_x):\n",
    "    sum_lambda += results_osc[f'noise_sigma = {noise_sigma}'][f'equation_{s}_lambda']\n",
    "  sum_lambda_dict[noise_sigma] = sum_lambda"
   ]
  },
  {
   "cell_type": "code",
   "execution_count": 79,
   "metadata": {
    "colab": {
     "base_uri": "https://localhost:8080/"
    },
    "id": "hA-mBqkOcDjF",
    "outputId": "1a873e2c-bb45-48b3-9ee8-8c3859fed236"
   },
   "outputs": [
    {
     "data": {
      "text/plain": [
       "0.12499999999999997"
      ]
     },
     "execution_count": 79,
     "metadata": {},
     "output_type": "execute_result"
    }
   ],
   "source": [
    "lambda_sum = np.max(np.array(list(sum_lambda_dict.values())).astype(float))\n",
    "t_eff = 1 / lambda_sum**2\n",
    "t_eff"
   ]
  },
  {
   "cell_type": "code",
   "execution_count": 104,
   "metadata": {
    "id": "k8VlQaHxHgRb"
   },
   "outputs": [],
   "source": [
    "x_mean, d_mean, c_mean = [], [], []\n",
    "n_basis = 40\n",
    "for i in range(len(noise_arr)):\n",
    "  x_mean.append(np.mean(results_osc[f'noise_sigma = {noise_arr[i]}']['metric_instance_0'].x_norm()[0] + results_osc[f'noise_sigma = {noise_arr[i]}']['metric_instance_0'].x_norm()[1]))\n",
    "  d_mean.append(np.mean(results_osc[f'noise_sigma = {noise_arr[i]}']['metric_instance_1'].d_x() + results_osc[f'noise_sigma = {noise_arr[i]}']['metric_instance_0'].d_x()))\n",
    "  c_mean.append(np.mean(np.sqrt(results_osc[f'noise_sigma = {noise_arr[i]}']['metric_instance_1'].C_fxg(n_basis)) + np.sqrt(results_osc[f'noise_sigma = {noise_arr[i]}']['metric_instance_0'].C_fxg(n_basis))))"
   ]
  },
  {
   "cell_type": "code",
   "execution_count": null,
   "metadata": {
    "colab": {
     "base_uri": "https://localhost:8080/",
     "height": 746
    },
    "id": "FJjfGhhTNt4g",
    "outputId": "58d67ca4-1e88-4920-9ed2-cc93b6ff91a8"
   },
   "outputs": [],
   "source": [
    "plotter(noise_arr, x_mean, d_mean, c_mean, f'Average over {n_sample} trajectories', 'osc_mean', one_d = False)"
   ]
  },
  {
   "cell_type": "code",
   "execution_count": null,
   "metadata": {
    "id": "51nx_k5Ke7aD"
   },
   "outputs": [],
   "source": []
  }
 ],
 "metadata": {
  "colab": {
   "provenance": []
  },
  "kernelspec": {
   "display_name": "Python 3 (ipykernel)",
   "language": "python",
   "name": "python3"
  },
  "language_info": {
   "codemirror_mode": {
    "name": "ipython",
    "version": 3
   },
   "file_extension": ".py",
   "mimetype": "text/x-python",
   "name": "python",
   "nbconvert_exporter": "python",
   "pygments_lexer": "ipython3",
   "version": "3.10.10"
  }
 },
 "nbformat": 4,
 "nbformat_minor": 4
}
